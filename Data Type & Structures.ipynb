{
 "cells": [
  {
   "cell_type": "raw",
   "id": "166f22eb-dfd1-48d5-8876-4cb17e98e7cb",
   "metadata": {},
   "source": [
    "Theroretical Questions"
   ]
  },
  {
   "cell_type": "markdown",
   "id": "6ab17e50-2b6b-4371-8a78-a33b0225db42",
   "metadata": {},
   "source": [
    "Question 1:- What are data structures, and why are they important?\n",
    "Answer 1:- Data structure is a way of organizing data so that data can be stored effectively and can be manipulated easily."
   ]
  },
  {
   "cell_type": "markdown",
   "id": "912ca3f1-796e-4e59-a1a2-674d0d2f1654",
   "metadata": {},
   "source": [
    "Question 2:- Explain the difference between mutable and immutable data types with examples ?\n",
    "\n",
    "Answer 2:- Mutable Data structures are those that can be edited by way of add, remove or the values of those can be changed e.g. lists, Sets\n",
    "whereas immutable data structes can not be edited as above e.g tuples"
   ]
  },
  {
   "cell_type": "raw",
   "id": "a6cebbcf-baa5-4bf5-b2ff-1cf93d9bd28c",
   "metadata": {},
   "source": [
    "Ques 3:- What are the main differences between lists and tuples in Python ?\n",
    "\n",
    "Answer 3:- Lists are muttable while tuples are not."
   ]
  },
  {
   "cell_type": "raw",
   "id": "0169a747-1357-4b7c-8771-d3c05d4f73af",
   "metadata": {},
   "source": [
    "Ques 4:- Describe how dictionaries store data.\n",
    "\n",
    "Ans 4:- Dictionary stores data in the format of \"Key:Value\" for every key assigned there should be a value."
   ]
  },
  {
   "cell_type": "raw",
   "id": "cc23117b-ca2a-4ed2-92e7-98a5e5912929",
   "metadata": {},
   "source": [
    "Ques 5:- Why might you use a set instead of a list in Python ?\n",
    "    \n",
    "Ans 5:- Sets remove the duplicate data and also support mathematical functions such as union, intersection e.t.c\n",
    "However, the usage of both depends on case to case and as per user requirements.\n"
   ]
  },
  {
   "cell_type": "raw",
   "id": "a451cfd9-897e-4d96-86ef-e1fc9cf63f1b",
   "metadata": {},
   "source": [
    "Ques 6 :- What is a string in Python, and how is it different from a list ?\n",
    "\n",
    "Ans 6:- A string in Python is a sequence of characters. Strings are different from list since strings are immutable"
   ]
  },
  {
   "cell_type": "raw",
   "id": "aa71cb5b-e07c-4ef8-a192-5195565252a4",
   "metadata": {},
   "source": [
    "Ques 7:-  How do tuples ensure data integrity in Python?\n",
    "\n",
    "Ans 7:-  Since tuples are immutable, It's not possible to change the data stored in tuples easily. "
   ]
  },
  {
   "cell_type": "raw",
   "id": "9ae94e6f-c6bc-4e9d-a932-62ba98b78920",
   "metadata": {},
   "source": [
    "Ques 8:-  What is a hash table, and how does it relate to dictionaries in Python?\n",
    "\n",
    "Ans 8 :- "
   ]
  },
  {
   "cell_type": "raw",
   "id": "9323a77e-40ce-4a70-9073-dae6c55f072b",
   "metadata": {},
   "source": [
    "Ques 9:- Can lists contain different data types in Python?\n",
    "\n",
    "Ans 9:- Yes, a list is hetrogeneos data structure and can store different data types."
   ]
  },
  {
   "cell_type": "raw",
   "id": "b1acdc0c-301c-4062-8b86-d772c20ceade",
   "metadata": {},
   "source": [
    "Ques 10:-  Explain why strings are immutable in Python.\n",
    "\n",
    "Ans 10:- Since assignment,add or remove functions doesn't work on string. Thus once some data is defined to a string the same cannot be changed. "
   ]
  },
  {
   "cell_type": "raw",
   "id": "b5b1ad96-485c-4586-919e-af7db012c0cf",
   "metadata": {},
   "source": [
    "Ques 11:-  What advantages do dictionaries offer over lists for certain tasks ?\n",
    "\n",
    "Ans 11:- Faster lookup of values & storing data in key & value format. "
   ]
  },
  {
   "cell_type": "raw",
   "id": "fa360d27-6070-489f-bcf5-052faf11a1a9",
   "metadata": {},
   "source": [
    "Ques 12:-  Describe a scenario where using a tuple would be preferable over a list.\n",
    "\n",
    "Ans 12:- Data would be preffered to store in a tuple instead on a list where the data involved needed to be kept static.\n",
    "e.g. Maintiaing record of employees personal information."
   ]
  },
  {
   "cell_type": "raw",
   "id": "dab411f6-93d4-4df7-8d58-93bd27ccfea7",
   "metadata": {},
   "source": [
    "Ques 13:-  How do sets handle duplicate values in Python ?\n",
    "\n",
    "Ans 13:- Set removes the subsequent occurance of the value."
   ]
  },
  {
   "cell_type": "raw",
   "id": "5d18370c-e5c3-413e-81b2-d65c47b0aa77",
   "metadata": {},
   "source": [
    "Ques 14 :- How does the “in” keyword work differently for lists and dictionaries.\n",
    "\n",
    "Ans 14:- in function works in dictionary only if the value is present in form of Key. Whereas it will return true if the value is  present anywhere in case of a list"
   ]
  },
  {
   "cell_type": "raw",
   "id": "0552199b-7f58-4f4f-a475-fc00fbee6b01",
   "metadata": {},
   "source": [
    "Ques 15 :- Can you modify the elements of a tuple? Explain why or why not ?\n",
    "\n",
    "Ans 15:- Since tuples are immutable is elements cannot be modified."
   ]
  },
  {
   "cell_type": "raw",
   "id": "3a23c0df-3f5d-4e90-b357-5b1814a9f813",
   "metadata": {},
   "source": [
    "Ques 16:-  What is a nested dictionary, and give an example of its use case\n",
    "\n",
    "Ans 16 :- A nested dictionary is a dictionary inside another dictionary. It allows you to store hierarchical or structured data, where each key maps to another dictionary as its value.\n",
    "students = {\"101\": {\"name\": \"Nitin\", \"age\": 22, \"marks\": 85},\"102\": {\"name\": \"Asha\", \"age\": 21, \"marks\": 90}}\n",
    "\n",
    "Here, each student ID (\"101\", \"102\") maps to another dictionary containing that student's details.\n"
   ]
  },
  {
   "cell_type": "raw",
   "id": "f550afb8-7e6f-4dd8-9a14-7df62b8bdf30",
   "metadata": {},
   "source": [
    "Ques 17:-  Describe the time complexity of accessing elements in a dictionary\n",
    "\n",
    "Ans 17:- "
   ]
  },
  {
   "cell_type": "raw",
   "id": "9b5ca09f-598b-4e10-bee0-ad94bc27a221",
   "metadata": {},
   "source": [
    "Ques 18 :-  In what situations are lists preferred over dictionaries"
   ]
  },
  {
   "cell_type": "raw",
   "id": "fde790c0-f0d4-4c1f-9e4f-f0e1ac190bef",
   "metadata": {},
   "source": [
    "Ques 19 :- Why are dictionaries considered unordered, and how does that affect data retrieval.\n",
    "\n",
    "Ans 19:- Dictionaries were considered unordered in earlier versions of Python i.e before 3.7 version."
   ]
  },
  {
   "cell_type": "raw",
   "id": "befe2ad0-16d4-42b6-a36e-2f455bcb1b1c",
   "metadata": {},
   "source": [
    "Ques 20:-  Explain the difference between a list and a dictionary in terms of data retrieval.\n",
    "\n",
    "Ans 20:- in list data can be retreived through index no. where as in dictionary data is retreived through key."
   ]
  },
  {
   "cell_type": "code",
   "execution_count": null,
   "id": "118675cf-e6c0-4bba-afac-714312068bdf",
   "metadata": {},
   "outputs": [],
   "source": []
  },
  {
   "cell_type": "raw",
   "id": "948265dd-0599-413b-b871-f6b216703837",
   "metadata": {},
   "source": [
    "Practical Questions"
   ]
  },
  {
   "cell_type": "code",
   "execution_count": 4,
   "id": "19380bae-ea6c-483f-a4c2-0d9f85a8a3fc",
   "metadata": {},
   "outputs": [
    {
     "name": "stdout",
     "output_type": "stream",
     "text": [
      "Nitin\n"
     ]
    }
   ],
   "source": [
    "#Ques 1:- Write a code to create a string with your name and print it ?\n",
    "\n",
    "Name=\"Nitin\"\n",
    "print(Name)"
   ]
  },
  {
   "cell_type": "code",
   "execution_count": 5,
   "id": "b7e24e6f-5d81-4653-89b9-c2faf8c9cdc3",
   "metadata": {},
   "outputs": [
    {
     "data": {
      "text/plain": [
       "11"
      ]
     },
     "execution_count": 5,
     "metadata": {},
     "output_type": "execute_result"
    }
   ],
   "source": [
    "#Ques 2:- Write a code to find the length of the string \"Hello World\".\n",
    "\n",
    "text=\"Hello World\"\n",
    "len(text)"
   ]
  },
  {
   "cell_type": "code",
   "execution_count": 6,
   "id": "9d84cca6-ff87-4946-91aa-6018c6ed1d31",
   "metadata": {},
   "outputs": [
    {
     "data": {
      "text/plain": [
       "'Pyt'"
      ]
     },
     "execution_count": 6,
     "metadata": {},
     "output_type": "execute_result"
    }
   ],
   "source": [
    "#Ques 3:- Write a code to slice the first 3 characters from the string \"Python Programming\".\n",
    "\n",
    "text2=\"Python Programming\"\n",
    "text2[:3:]"
   ]
  },
  {
   "cell_type": "code",
   "execution_count": 8,
   "id": "ebdd9dd4-8219-458a-80f1-b2947428e7db",
   "metadata": {},
   "outputs": [
    {
     "data": {
      "text/plain": [
       "'HELLO'"
      ]
     },
     "execution_count": 8,
     "metadata": {},
     "output_type": "execute_result"
    }
   ],
   "source": [
    "#Ques 4:- Write a code to convert the string \"hello\" to uppercase.\n",
    "\n",
    "str1=\"hello\"\n",
    "str1.upper()"
   ]
  },
  {
   "cell_type": "code",
   "execution_count": null,
   "id": "929a0191-20e2-40c1-8882-5b4e866f153f",
   "metadata": {},
   "outputs": [],
   "source": [
    "#Ques 5:- Write a code to replace the word \"apple\" with \"orange\" in the string \"I like apple\""
   ]
  },
  {
   "cell_type": "code",
   "execution_count": 25,
   "id": "5b506bd0-a2dc-45af-a3c7-ca87a342b8ed",
   "metadata": {},
   "outputs": [
    {
     "name": "stdout",
     "output_type": "stream",
     "text": [
      "I Like Orange\n"
     ]
    }
   ],
   "source": [
    "str2= \"I Like apple\"\n",
    "str3=str2.replace(\"apple\",\"Orange\")\n",
    "print(str3)"
   ]
  },
  {
   "cell_type": "code",
   "execution_count": 52,
   "id": "a40a19e7-5e9a-400f-ba9f-d034e083645b",
   "metadata": {},
   "outputs": [
    {
     "name": "stdout",
     "output_type": "stream",
     "text": [
      "[1, 2, 3, 4, 5]\n"
     ]
    }
   ],
   "source": [
    "#Ques 6:-  Write a code to create a list with numbers 1 to 5 and print it.\n",
    "Num=[1,2,3,4,5]\n",
    "print(Num)"
   ]
  },
  {
   "cell_type": "code",
   "execution_count": 53,
   "id": "a4eb78f3-476c-416b-9fe0-2364bdec7db7",
   "metadata": {},
   "outputs": [
    {
     "name": "stdout",
     "output_type": "stream",
     "text": [
      "[1, 2, 3, 4, 10]\n"
     ]
    }
   ],
   "source": [
    "#Ques 7:-  Write a code to append the number 10 to the list [1, 2, 3, 4].\n",
    "num=[1,2,3,4]\n",
    "num.append(10)\n",
    "print(num)\n"
   ]
  },
  {
   "cell_type": "code",
   "execution_count": 54,
   "id": "036296b9-af0e-401e-ae72-a78c05bbdb32",
   "metadata": {},
   "outputs": [
    {
     "name": "stdout",
     "output_type": "stream",
     "text": [
      "[1, 2, 4, 5]\n"
     ]
    }
   ],
   "source": [
    "#Ques 8:-  Write a code to remove the number 3 from the list [1, 2, 3, 4, 5]\n",
    "num2=[1, 2, 3, 4, 5]\n",
    "num2.remove(3)\n",
    "print(num2)"
   ]
  },
  {
   "cell_type": "code",
   "execution_count": 55,
   "id": "03266557-7b96-4fb5-a467-a1447fc3f5e6",
   "metadata": {},
   "outputs": [
    {
     "data": {
      "text/plain": [
       "'b'"
      ]
     },
     "execution_count": 55,
     "metadata": {},
     "output_type": "execute_result"
    }
   ],
   "source": [
    "#Ques 9 :- Write a code to access the second element in the list ['a', 'b', 'c', 'd']\n",
    "\n",
    "alpha=['a', 'b', 'c', 'd']\n",
    "alpha[1]"
   ]
  },
  {
   "cell_type": "code",
   "execution_count": 56,
   "id": "a42a1de7-50aa-41ec-8e18-588e8b6b54fe",
   "metadata": {},
   "outputs": [
    {
     "data": {
      "text/plain": [
       "[50, 40, 30, 20, 10]"
      ]
     },
     "execution_count": 56,
     "metadata": {},
     "output_type": "execute_result"
    }
   ],
   "source": [
    "#Ques 10:-  Write a code to reverse the list [10, 20, 30, 40, 50].\n",
    "\n",
    "lst1=[10, 20, 30, 40, 50]\n",
    "lst1[::-1]"
   ]
  },
  {
   "cell_type": "code",
   "execution_count": 57,
   "id": "b49426d8-cdb6-428f-94c1-b5fab45ca53e",
   "metadata": {},
   "outputs": [
    {
     "name": "stdout",
     "output_type": "stream",
     "text": [
      "(100, 200, 300)\n"
     ]
    }
   ],
   "source": [
    "#Ques 11:- Write a code to create a tuple with the elements 100, 200, 300 and print it.\n",
    "t1=(100,200,300)\n",
    "print(t1)"
   ]
  },
  {
   "cell_type": "code",
   "execution_count": 58,
   "id": "3b67a7c0-dcd5-4a08-a323-25d834c4c113",
   "metadata": {},
   "outputs": [
    {
     "data": {
      "text/plain": [
       "'blue'"
      ]
     },
     "execution_count": 58,
     "metadata": {},
     "output_type": "execute_result"
    }
   ],
   "source": [
    "#Ques 12:- Write a code to access the second-to-last element of the tuple ('red', 'green', 'blue', 'yellow').\n",
    "colors=('red', 'green', 'blue', 'yellow')\n",
    "colors[-2]\n"
   ]
  },
  {
   "cell_type": "code",
   "execution_count": 65,
   "id": "62aab435-1232-45bc-8dc2-0f6453e20bc2",
   "metadata": {},
   "outputs": [
    {
     "data": {
      "text/plain": [
       "5"
      ]
     },
     "execution_count": 65,
     "metadata": {},
     "output_type": "execute_result"
    }
   ],
   "source": [
    "#Ques 13:- Write a code to find the minimum number in the tuple (10, 20, 5, 15).\n",
    "\n",
    "t2=(10, 20, 5, 15)\n",
    "min(t2)"
   ]
  },
  {
   "cell_type": "code",
   "execution_count": 67,
   "id": "a238d182-dcc5-4f85-b9b6-8a616425c72e",
   "metadata": {},
   "outputs": [
    {
     "data": {
      "text/plain": [
       "1"
      ]
     },
     "execution_count": 67,
     "metadata": {},
     "output_type": "execute_result"
    }
   ],
   "source": [
    "#Ques 14 :- Write a code to find the index of the element \"cat\" in the tuple ('dog', 'cat', 'rabbit')\n",
    "animal=('dog', 'cat', 'rabbit')\n",
    "animal.index(\"cat\")"
   ]
  },
  {
   "cell_type": "code",
   "execution_count": 68,
   "id": "84381d26-c00e-47b4-8ae3-224bac09e742",
   "metadata": {},
   "outputs": [
    {
     "data": {
      "text/plain": [
       "True"
      ]
     },
     "execution_count": 68,
     "metadata": {},
     "output_type": "execute_result"
    }
   ],
   "source": [
    "#Ques 15:-  Write a code to create a tuple containing three different fruits and check if \"kiwi\" is in it.\n",
    "\n",
    "t3=(\"Apple\", \"Orange\", \"Kiwi\")\n",
    "\"Kiwi\" in t3"
   ]
  },
  {
   "cell_type": "code",
   "execution_count": 72,
   "id": "1eaa1b15-64bc-4064-92e8-7dd93f28e7a4",
   "metadata": {},
   "outputs": [
    {
     "name": "stdout",
     "output_type": "stream",
     "text": [
      "{'a', 'c', 'b'}\n"
     ]
    }
   ],
   "source": [
    "#Ques 16:- Write a code to create a set with the elements 'a', 'b', 'c' and print it.\n",
    "\n",
    "s1={\"a\",\"b\",\"c\"}\n",
    "print(s1)"
   ]
  },
  {
   "cell_type": "code",
   "execution_count": 75,
   "id": "ec7d281a-4de3-4d25-9c9b-db62488fccf9",
   "metadata": {},
   "outputs": [
    {
     "name": "stdout",
     "output_type": "stream",
     "text": [
      "set()\n"
     ]
    }
   ],
   "source": [
    "#Ques 17:- Write a code to clear all elements from the set {1, 2, 3, 4, 5}.\n",
    "\n",
    "s2={1, 2, 3, 4, 5}\n",
    "s2.clear()\n",
    "print(s2)"
   ]
  },
  {
   "cell_type": "code",
   "execution_count": 78,
   "id": "8c349d6a-8568-4bd8-8d72-4bdc9c79014f",
   "metadata": {},
   "outputs": [
    {
     "data": {
      "text/plain": [
       "{1, 2, 3}"
      ]
     },
     "execution_count": 78,
     "metadata": {},
     "output_type": "execute_result"
    }
   ],
   "source": [
    "#Ques 18:- Write a code to remove the element 4 from the set {1, 2, 3, 4}.\n",
    "\n",
    "s3={1, 2, 3, 4}\n",
    "s3.remove(4)\n",
    "s3"
   ]
  },
  {
   "cell_type": "code",
   "execution_count": 80,
   "id": "3d500865-d56a-4f89-9a25-a1f0f6103bda",
   "metadata": {},
   "outputs": [
    {
     "data": {
      "text/plain": [
       "{1, 2, 3, 4, 5}"
      ]
     },
     "execution_count": 80,
     "metadata": {},
     "output_type": "execute_result"
    }
   ],
   "source": [
    "#Ques 19:- Write a code to find the union of two sets {1, 2, 3} and {3, 4, 5}.\n",
    "s4={1, 2, 3}\n",
    "s5={3, 4, 5}\n",
    "s4|s5"
   ]
  },
  {
   "cell_type": "code",
   "execution_count": 81,
   "id": "5dc15be1-9f68-4e75-8bd2-9fbcb6e3f336",
   "metadata": {},
   "outputs": [
    {
     "data": {
      "text/plain": [
       "{2, 3}"
      ]
     },
     "execution_count": 81,
     "metadata": {},
     "output_type": "execute_result"
    }
   ],
   "source": [
    "#Ques 20:-  Write a code to find the intersection of two sets {1, 2, 3} and {2, 3, 4}.\n",
    "\n",
    "s6={1, 2, 3}\n",
    "s7={2, 3, 4}\n",
    "s6&s7"
   ]
  },
  {
   "cell_type": "code",
   "execution_count": 82,
   "id": "e0966fc1-0170-4155-a1eb-8f53435848f0",
   "metadata": {},
   "outputs": [
    {
     "name": "stdout",
     "output_type": "stream",
     "text": [
      "{'name': 'Nitin', 'age': 29, 'city': 'Noida'}\n"
     ]
    }
   ],
   "source": [
    "#Ques 21:- Write a code to create a dictionary with the keys \"name\", \"age\", and \"city\", and print it.\n",
    "\n",
    "dict1={\"name\":\"Nitin\", \"age\":29, \"city\":\"Noida\"}\n",
    "print(dict1)"
   ]
  },
  {
   "cell_type": "code",
   "execution_count": 87,
   "id": "4b4f1b0d-6904-4550-b87a-3c75059d5cb2",
   "metadata": {},
   "outputs": [
    {
     "name": "stdout",
     "output_type": "stream",
     "text": [
      "{'name': 'John', 'age': 25, 'country': 'USA'}\n"
     ]
    }
   ],
   "source": [
    "#Ques 22:- Write a code to add a new key-value pair \"country\": \"USA\" to the dictionary {'name': 'John', 'age': 25}.\n",
    "\n",
    "dict2={'name': 'John', 'age': 25}\n",
    "dict2.update({\"country\":\"USA\"})\n",
    "print(dict2)"
   ]
  },
  {
   "cell_type": "code",
   "execution_count": 88,
   "id": "a47453ed-762c-4084-bb95-575fa3382735",
   "metadata": {},
   "outputs": [
    {
     "data": {
      "text/plain": [
       "'Alice'"
      ]
     },
     "execution_count": 88,
     "metadata": {},
     "output_type": "execute_result"
    }
   ],
   "source": [
    "#Ques 23:- Write a code to access the value associated with the key \"name\" in the dictionary {'name': 'Alice', 'age': 30}.\n",
    "dict3={'name': 'Alice', 'age': 30}\n",
    "dict3[\"name\"]"
   ]
  },
  {
   "cell_type": "code",
   "execution_count": 89,
   "id": "b25c1482-1a90-48fd-8d51-aeba53c883de",
   "metadata": {},
   "outputs": [
    {
     "name": "stdout",
     "output_type": "stream",
     "text": [
      "{'name': 'Bob', 'city': 'New York'}\n"
     ]
    }
   ],
   "source": [
    "#Ques 24:- . Write a code to remove the key \"age\" from the dictionary {'name': 'Bob', 'age': 22, 'city': 'New York'}.\n",
    "dict4={'name': 'Bob', 'age': 22, 'city': 'New York'}\n",
    "dict4.pop('age')\n",
    "print(dict4)"
   ]
  },
  {
   "cell_type": "code",
   "execution_count": 90,
   "id": "089dce40-5e00-48cf-8c0b-e5e380d9dc4e",
   "metadata": {},
   "outputs": [
    {
     "data": {
      "text/plain": [
       "True"
      ]
     },
     "execution_count": 90,
     "metadata": {},
     "output_type": "execute_result"
    }
   ],
   "source": [
    "#Ques 25:-  Write a code to check if the key \"city\" exists in the dictionary {'name': 'Alice', 'city': 'Paris'}.\n",
    "\n",
    "dict5= {'name': 'Alice', 'city': 'Paris'}\n",
    "\"city\" in dict5"
   ]
  },
  {
   "cell_type": "code",
   "execution_count": 95,
   "id": "772e1c99-176d-443f-86a7-f99fffcc6ece",
   "metadata": {},
   "outputs": [
    {
     "name": "stdout",
     "output_type": "stream",
     "text": [
      "[1, 2, 3] (4, 5, 6) {'A': 7, 'B': 8, 'C': 9}\n"
     ]
    }
   ],
   "source": [
    "#Ques 26:-  Write a code to create a list, a tuple, and a dictionary, and print them all.\n",
    "l1=[1,2,3]\n",
    "t4=(4,5,6)\n",
    "d1={\"A\":7,\"B\":8,\"C\":9}\n",
    "print(l1,t4,d1)"
   ]
  },
  {
   "cell_type": "code",
   "execution_count": 96,
   "id": "2c89d000-2c6b-4107-9b06-27404de769b3",
   "metadata": {},
   "outputs": [
    {
     "name": "stdout",
     "output_type": "stream",
     "text": [
      "[10, 23, 34, 45, 56]\n"
     ]
    }
   ],
   "source": [
    "#Ques 27:- Write a code to create a list of 5 random numbers between 1 and 100, sort it in ascending order, and print the result.(replaced)\n",
    "a=[10,34,56,23,45]\n",
    "print(sorted(a))"
   ]
  },
  {
   "cell_type": "code",
   "execution_count": 97,
   "id": "f19e2978-0a58-49fc-8fca-b96ef445b905",
   "metadata": {},
   "outputs": [
    {
     "data": {
      "text/plain": [
       "'DATA SCIENCE'"
      ]
     },
     "execution_count": 97,
     "metadata": {},
     "output_type": "execute_result"
    }
   ],
   "source": [
    "#Ques 28:-  Write a code to create a list with strings and print the element at the third index.\n",
    "l2=[\"Nitin\",\"PW SKILLS\",\"DATA ANALYTICS\",\"DATA SCIENCE\"]\n",
    "l2[3]"
   ]
  },
  {
   "cell_type": "code",
   "execution_count": 100,
   "id": "a79b581c-cb4e-4683-92ff-19af2b283e2a",
   "metadata": {},
   "outputs": [
    {
     "name": "stdout",
     "output_type": "stream",
     "text": [
      "{'Name': 'Nitin', 'Age': 29, 'City': 'Jamnagar', 'Country': 'Sri Lanka'}\n"
     ]
    }
   ],
   "source": [
    "#Ques 29:-  Write a code to combine two dictionaries into one and print the result.\n",
    "d2={\"Name\":\"Nitin\",\"Age\":29}\n",
    "d3={\"City\":\"Jamnagar\",\"Country\":\"Sri Lanka\"}\n",
    "d2.update(d3)\n",
    "print(d2)"
   ]
  },
  {
   "cell_type": "code",
   "execution_count": 101,
   "id": "7cb6eafc-73a1-4421-865a-8349d3b8909f",
   "metadata": {},
   "outputs": [
    {
     "name": "stdout",
     "output_type": "stream",
     "text": [
      "{'DATA SCIENCE', 'PW SKILLS', 'DATA ANALYTICS', 'Nitin'}\n"
     ]
    }
   ],
   "source": [
    "#Ques 30:-  Write a code to convert a list of strings into a set.\n",
    "l2=[\"Nitin\",\"PW SKILLS\",\"DATA ANALYTICS\",\"DATA SCIENCE\"]\n",
    "l4=set(l2)\n",
    "print(l4)\n"
   ]
  }
 ],
 "metadata": {
  "kernelspec": {
   "display_name": "Python 3 (ipykernel)",
   "language": "python",
   "name": "python3"
  },
  "language_info": {
   "codemirror_mode": {
    "name": "ipython",
    "version": 3
   },
   "file_extension": ".py",
   "mimetype": "text/x-python",
   "name": "python",
   "nbconvert_exporter": "python",
   "pygments_lexer": "ipython3",
   "version": "3.13.3"
  }
 },
 "nbformat": 4,
 "nbformat_minor": 5
}
